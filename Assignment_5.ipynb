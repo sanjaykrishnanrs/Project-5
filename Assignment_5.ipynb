{
  "nbformat": 4,
  "nbformat_minor": 0,
  "metadata": {
    "colab": {
      "name": "Assignment-5.ipynb",
      "version": "0.3.2",
      "provenance": [],
      "collapsed_sections": []
    },
    "kernelspec": {
      "name": "python3",
      "display_name": "Python 3"
    },
    "accelerator": "GPU"
  },
  "cells": [
    {
      "cell_type": "markdown",
      "metadata": {
        "id": "TnycFMDzHdep",
        "colab_type": "text"
      },
      "source": [
        "# Preface\n",
        "Here, we will be improving architecture developed in Assignment-4 (Repo- Project-4) using below steps\n",
        "* Change the Project(Assignment)-4th Code from Assignment 4 to include:\n",
        "\n",
        "    a. image normalization <br/>\n",
        "    b. L2 regularization <br/>\n",
        "    c. ReLU after BN\n",
        "\n",
        "* Run your new code for 40 epochs and save the model with highest validation accuracy\n",
        "* Find out 25 misclassified images from the validation dataset and create an image gallery\n",
        "\n",
        "<hr>\n",
        "\n",
        "###Recap on what we did in Assignment-4\n",
        "\n",
        "So far we have did these many major improvements: \n",
        "\n",
        "**1) Vanilla Architecture**\n",
        "\n",
        "*   Maxpooling\n",
        "*   1x1 Kernel\n",
        "*   Relu activation\n",
        "\n",
        "**2) Major focus on parameter reduction keeping the accuracy not to dip much**\n",
        "\n",
        "*   Reduce the no: of layers\n",
        "<br/><pre>Shift our architecture from deep to shallow. Once image reaches 9*9 resolution, then further layers can't extract any useful feature\n",
        "       Eg: 3x3 kernel on 9x9 image only covers 25 pixels 9 times.</pre>\n",
        "*   Reduce no: of kernels \n",
        "<br/><pre>Our objective is to detect handwritten digit in 15k max params. Using enough kernels to achieve.</pre>\n",
        "*   Increase Epoch & Batch size\n",
        "<br/><pre>Network takes more time to learn as few parameters have to be tuned properly for a broader spectrum. So we have to increase epoch and to utilize gpu cores more, increasing batchsize as well.</pre>\n",
        "\n",
        "**3) Focused on resolving overfitting**\n",
        "\n",
        "* BatchNormalization\n",
        "* Drop-out\n",
        "\n",
        "***We will focus on learning rate in this iteration for the faster convergence of parameter values***<br/>\n",
        "**4) Learning rate**\n",
        "* Cyclic Learning rate"
      ]
    },
    {
      "cell_type": "markdown",
      "metadata": {
        "id": "aNyZv-Ec52ot",
        "colab_type": "text"
      },
      "source": [
        "# **Import Libraries and modules**"
      ]
    },
    {
      "cell_type": "code",
      "metadata": {
        "id": "3m3w1Cw49Zkt",
        "colab_type": "code",
        "colab": {}
      },
      "source": [
        "# Installing Keras Library and importing the same.\n",
        "# Reference: https://keras.io/\n",
        "!pip install -q keras\n",
        "import keras"
      ],
      "execution_count": 0,
      "outputs": []
    },
    {
      "cell_type": "code",
      "metadata": {
        "id": "Eso6UHE080D4",
        "colab_type": "code",
        "colab": {}
      },
      "source": [
        "# Numpy is library used for efficient high level mathemtical processing on multi dimensional arrays\n",
        "import numpy as np\n",
        "\n",
        "# Keras provides a Sequential model API. This is way of creating a linear stack of layers while creating models.\n",
        "from keras.models import Sequential\n",
        "\n",
        "# Flatten provided by Keras will be used to convert a multidimensional tensor into a single 1-D tensor\n",
        "from keras.layers import Flatten\n",
        "from keras.layers import Dense, Dropout, Activation, Flatten, Add, BatchNormalization\n",
        "\n",
        "# Convolution2D will be used to create a convolution kernel that is convolved with the layer input to produce a tensor of outputs\n",
        "from keras.layers import Convolution2D, MaxPooling2D\n",
        "\n",
        "# Import np_utils from keras\n",
        "from keras.utils import np_utils\n",
        "\n",
        "# Being a subset of NIST, MNIST has datasets of handwritten digits with 60,000 training set and 10,000 test set\n",
        "from keras.datasets import mnist\n",
        "\n",
        "from keras import regularizers"
      ],
      "execution_count": 0,
      "outputs": []
    },
    {
      "cell_type": "markdown",
      "metadata": {
        "id": "zByEi95J86RD",
        "colab_type": "text"
      },
      "source": [
        "# Load pre-shuffled MNIST data into train and test sets"
      ]
    },
    {
      "cell_type": "code",
      "metadata": {
        "id": "7r1KERRAJXxA",
        "colab_type": "code",
        "colab": {
          "base_uri": "https://localhost:8080/",
          "height": 34
        },
        "outputId": "bc7c88e2-4758-4721-b6e7-15cca28c906c"
      },
      "source": [
        "from google.colab import drive\n",
        "drive.mount('/content/drive')"
      ],
      "execution_count": 40,
      "outputs": [
        {
          "output_type": "stream",
          "text": [
            "Drive already mounted at /content/drive; to attempt to forcibly remount, call drive.mount(\"/content/drive\", force_remount=True).\n"
          ],
          "name": "stdout"
        }
      ]
    },
    {
      "cell_type": "code",
      "metadata": {
        "id": "7eRM0QWN83PV",
        "colab_type": "code",
        "colab": {}
      },
      "source": [
        "# Loads MINST dataset, 60,000 training set and 10,000 test set\n",
        "# X values will have images,  y values will have digit represented by the corresponding X images\n",
        "(X_train, y_train), (X_test, y_test) = mnist.load_data()"
      ],
      "execution_count": 0,
      "outputs": []
    },
    {
      "cell_type": "code",
      "metadata": {
        "id": "4a4Be72j8-ZC",
        "colab_type": "code",
        "outputId": "9ad1a7a8-0e04-45f2-ca5b-54d5b87cc574",
        "colab": {
          "base_uri": "https://localhost:8080/",
          "height": 304
        }
      },
      "source": [
        "# Let's see a random image in a training dataset (X_train)\n",
        "\n",
        "print (X_train.shape)\n",
        "from matplotlib import pyplot as plt\n",
        "%matplotlib inline\n",
        "plt.imshow(X_train[0])"
      ],
      "execution_count": 42,
      "outputs": [
        {
          "output_type": "stream",
          "text": [
            "(60000, 28, 28)\n"
          ],
          "name": "stdout"
        },
        {
          "output_type": "execute_result",
          "data": {
            "text/plain": [
              "<matplotlib.image.AxesImage at 0x7f2ae5917240>"
            ]
          },
          "metadata": {
            "tags": []
          },
          "execution_count": 42
        },
        {
          "output_type": "display_data",
          "data": {
            "image/png": "[encoded data removed]",
            "text/plain": [
              "<Figure size 432x288 with 1 Axes>"
            ]
          },
          "metadata": {
            "tags": []
          }
        }
      ]
    },
    {
      "cell_type": "code",
      "metadata": {
        "id": "dkmprriw9AnZ",
        "colab_type": "code",
        "colab": {}
      },
      "source": [
        "# As you see above dimensions, loaded training dataset has a dimension of 2d. So, we have 60,000 2d images 28x28\n",
        "# Let's reshapte to 3D as our model requires 3d images. Here, we are reshaping 28x28 to 28x28x1 where 1 being the channel of the image\n",
        "X_train = X_train.reshape(X_train.shape[0], 28, 28,1)\n",
        "X_test = X_test.reshape(X_test.shape[0], 28, 28,1)"
      ],
      "execution_count": 0,
      "outputs": []
    },
    {
      "cell_type": "code",
      "metadata": {
        "id": "X2m4YS4E9CRh",
        "colab_type": "code",
        "colab": {}
      },
      "source": [
        "# Using a 32 bit precision is a common approach in neural network training.\n",
        "# Reason behind is that to make sure that the dataset fits easily in RAM.\n",
        "X_train = X_train.astype('float32')\n",
        "X_test = X_test.astype('float32')\n",
        "\n",
        "# 255 is the max pixel value in an image. Dividing all pixel values by 255 ensures that the input features are scaled between 0.0 and 1.0\n",
        "# Reason behind to scale between 0.0 and 1.0 is to make sure default learning rate works well.\n",
        "X_train /= 255\n",
        "X_test /= 255"
      ],
      "execution_count": 0,
      "outputs": []
    },
    {
      "cell_type": "code",
      "metadata": {
        "id": "0Mn0vAYD9DvB",
        "colab_type": "code",
        "outputId": "c01fe7c8-801f-4267-95e7-263913fb228c",
        "colab": {
          "base_uri": "https://localhost:8080/",
          "height": 34
        }
      },
      "source": [
        "# Let's see corresponding y_train value\n",
        "y_train[:10]"
      ],
      "execution_count": 45,
      "outputs": [
        {
          "output_type": "execute_result",
          "data": {
            "text/plain": [
              "array([5, 0, 4, 1, 9, 2, 1, 3, 1, 4], dtype=uint8)"
            ]
          },
          "metadata": {
            "tags": []
          },
          "execution_count": 45
        }
      ]
    },
    {
      "cell_type": "code",
      "metadata": {
        "id": "ZG8JiXR39FHC",
        "colab_type": "code",
        "colab": {}
      },
      "source": [
        "# Convert 1-dimensional class arrays to 10-dimensional class matrices\n",
        "# Reason behind this conversion is, at the end of the model we will be having 10 nodes which will tell, out of 0-9 digits which does the input image represent.\n",
        "# Hence to learn as well as to evaluate, we need a 10 length array for each output label\n",
        "Y_train = np_utils.to_categorical(y_train, 10)\n",
        "Y_test = np_utils.to_categorical(y_test, 10)"
      ],
      "execution_count": 0,
      "outputs": []
    },
    {
      "cell_type": "code",
      "metadata": {
        "id": "fYlFRvKS9HMB",
        "colab_type": "code",
        "outputId": "1fb4850f-9d8a-4cfa-9ab1-6554ee23e86a",
        "colab": {
          "base_uri": "https://localhost:8080/",
          "height": 191
        }
      },
      "source": [
        "# Let's see what are the initial 10 values in y_train. Values is y_train corresponds to the digit represnted by x dataset images.\n",
        "Y_train[:10]"
      ],
      "execution_count": 47,
      "outputs": [
        {
          "output_type": "execute_result",
          "data": {
            "text/plain": [
              "array([[0., 0., 0., 0., 0., 1., 0., 0., 0., 0.],\n",
              "       [1., 0., 0., 0., 0., 0., 0., 0., 0., 0.],\n",
              "       [0., 0., 0., 0., 1., 0., 0., 0., 0., 0.],\n",
              "       [0., 1., 0., 0., 0., 0., 0., 0., 0., 0.],\n",
              "       [0., 0., 0., 0., 0., 0., 0., 0., 0., 1.],\n",
              "       [0., 0., 1., 0., 0., 0., 0., 0., 0., 0.],\n",
              "       [0., 1., 0., 0., 0., 0., 0., 0., 0., 0.],\n",
              "       [0., 0., 0., 1., 0., 0., 0., 0., 0., 0.],\n",
              "       [0., 1., 0., 0., 0., 0., 0., 0., 0., 0.],\n",
              "       [0., 0., 0., 0., 1., 0., 0., 0., 0., 0.]], dtype=float32)"
            ]
          },
          "metadata": {
            "tags": []
          },
          "execution_count": 47
        }
      ]
    },
    {
      "cell_type": "markdown",
      "metadata": {
        "id": "UxOvaKeTA0IX",
        "colab_type": "text"
      },
      "source": [
        "# Model Architecture"
      ]
    },
    {
      "cell_type": "code",
      "metadata": {
        "id": "osKqT73Q9JJB",
        "colab_type": "code",
        "outputId": "018f3fee-7aa1-4ebc-ed66-c301ea4089c1",
        "colab": {
          "base_uri": "https://localhost:8080/",
          "height": 141
        }
      },
      "source": [
        "# Initializing Sequential API as we will be creating model in a linear stack way\n",
        "model = Sequential()\n",
        "\n",
        "\n",
        "\n",
        "# Input Dimension  = 28x28x1\n",
        "# Kernel           = 3x3x1\n",
        "# No:of Kernels    = 16\n",
        "# Output Dimension = 26x26x16 (Here,16 is the number of channels)\n",
        "# Receptive Field  = 3x3  \n",
        "model.add(Convolution2D(13, 3, 3, input_shape=(28,28,1), kernel_regularizer=regularizers.l2(0.001)))\n",
        "model.add(BatchNormalization())\n",
        "model.add(Activation('relu'))\n",
        "model.add(Dropout(0.1))\n",
        "\n",
        "# Input Dimension  = 26x26x16\n",
        "# Kernel           = 3x3x16\n",
        "# No:of Kernels    = 16\n",
        "# Output Dimension = 24x24x16 (Here,16 is the number of channels)\n",
        "# Receptive Field  = 5x5 \n",
        "model.add(Convolution2D(16, 3, 3, kernel_regularizer=regularizers.l2(0.001)))\n",
        "model.add(BatchNormalization())\n",
        "model.add(Activation('relu'))\n",
        "model.add(Dropout(0.1))\n",
        "\n",
        "# Input Dimension  = 24x24x16\n",
        "# Kernel           = 3x3x16\n",
        "# No:of Kernels    = 32\n",
        "# Output Dimension = 22x22x32 (Here,32 is the number of channels)\n",
        "# Receptive Field  = 7x7 \n",
        "model.add(Convolution2D(19, 3, 3, kernel_regularizer=regularizers.l2(0.001)))\n",
        "model.add(BatchNormalization())\n",
        "model.add(Activation('relu'))\n",
        "model.add(Dropout(0.1))\n",
        "\n",
        "model.add(Convolution2D(13, 1, activation='relu', kernel_regularizer=regularizers.l2(0.001)))\n",
        "# Input Dimension  = 22x22x16\n",
        "# Maxpooling Dimension = 2x2 (Default is 2x2)\n",
        "# Output Dimension = 11x11x16 (Here,16 is the number of channels)\n",
        "# Receptive Field  = 14x14 \n",
        "# NOTE: Maxpooling halves the resolution and doubles the receptive field\n",
        "model.add(MaxPooling2D())\n",
        "\n",
        "\n",
        "\n",
        "# Input Dimension  = 11x11x16\n",
        "# Kernel           = 3x3x16\n",
        "# No:of Kernels    = 16\n",
        "# Output Dimension = 9x9x16 (Here,32 is the number of channels)\n",
        "# Receptive Field  = 16x16 \n",
        "model.add(Convolution2D(16, 3, 3, kernel_regularizer=regularizers.l2(0.001)))\n",
        "model.add(BatchNormalization())\n",
        "model.add(Activation('relu'))\n",
        "model.add(Dropout(0.1))\n",
        "\n",
        "\n",
        "\n",
        "\n",
        "\n",
        "# # Input Dimension  = 7x7x32\n",
        "# # Kernel           = 1x1x32\n",
        "# # No:of Kernels    = 10\n",
        "# # Output Dimension = 7x7x10 (Here,10 is the number of channels)\n",
        "# # Receptive Field  = 18x18\n",
        "# # NOTE: 1x1 Kernels are used here for dimension(channel) reduction.\n",
        "# # No effect on output resolution or receptive field\n",
        "model.add(Convolution2D(19, 3, 3, kernel_regularizer=regularizers.l2(0.001)))\n",
        "model.add(BatchNormalization())\n",
        "model.add(Activation('relu'))\n",
        "model.add(Dropout(0.1))\n",
        "\n",
        "\n",
        "\n",
        "\n",
        "# Input Dimension  = 7x7x10\n",
        "# Kernel           = 7x7x10\n",
        "# No:of Kernels    = 10\n",
        "# Output Dimension = 1x1x10 (Here,32 is the number of channels)\n",
        "# Receptive Field  = 20x20 \n",
        "model.add(Convolution2D(10, 1, kernel_regularizer=regularizers.l2(0.001)))\n",
        "model.add(Convolution2D(10, 7, kernel_regularizer=regularizers.l2(0.001)))\n",
        "\n",
        "# Input Dimension  = 1x1x10\n",
        "# Output Dimension = 10\n",
        "model.add(Flatten())\n",
        "\n",
        "# We use a “softmax” activation function in the output layer. \n",
        "# This is to ensure the output values are in the range of 0 and 1 and used as predicted probabilities.\n",
        "model.add(Activation('softmax'))\n",
        "\n",
        "\n",
        "\n",
        "\n",
        "\n"
      ],
      "execution_count": 48,
      "outputs": [
        {
          "output_type": "stream",
          "text": [
            "/usr/local/lib/python3.6/dist-packages/ipykernel_launcher.py:10: UserWarning: Update your `Conv2D` call to the Keras 2 API: `Conv2D(13, (3, 3), input_shape=(28, 28, 1..., kernel_regularizer=<keras.reg...)`\n",
            "  # Remove the CWD from sys.path while we load stuff.\n",
            "/usr/local/lib/python3.6/dist-packages/ipykernel_launcher.py:20: UserWarning: Update your `Conv2D` call to the Keras 2 API: `Conv2D(16, (3, 3), kernel_regularizer=<keras.reg...)`\n",
            "/usr/local/lib/python3.6/dist-packages/ipykernel_launcher.py:30: UserWarning: Update your `Conv2D` call to the Keras 2 API: `Conv2D(19, (3, 3), kernel_regularizer=<keras.reg...)`\n",
            "/usr/local/lib/python3.6/dist-packages/ipykernel_launcher.py:50: UserWarning: Update your `Conv2D` call to the Keras 2 API: `Conv2D(16, (3, 3), kernel_regularizer=<keras.reg...)`\n",
            "/usr/local/lib/python3.6/dist-packages/ipykernel_launcher.py:66: UserWarning: Update your `Conv2D` call to the Keras 2 API: `Conv2D(19, (3, 3), kernel_regularizer=<keras.reg...)`\n"
          ],
          "name": "stderr"
        }
      ]
    },
    {
      "cell_type": "code",
      "metadata": {
        "id": "TzdAYg1k9K7Z",
        "colab_type": "code",
        "outputId": "c2148eb4-1235-4d44-94ec-8732c97802cd",
        "colab": {
          "base_uri": "https://localhost:8080/",
          "height": 1042
        }
      },
      "source": [
        "# Let's see the overview of stacked up layers in the model\n",
        "model.summary()"
      ],
      "execution_count": 49,
      "outputs": [
        {
          "output_type": "stream",
          "text": [
            "_________________________________________________________________\n",
            "Layer (type)                 Output Shape              Param #   \n",
            "=================================================================\n",
            "conv2d_17 (Conv2D)           (None, 26, 26, 13)        130       \n",
            "_________________________________________________________________\n",
            "batch_normalization_11 (Batc (None, 26, 26, 13)        52        \n",
            "_________________________________________________________________\n",
            "activation_13 (Activation)   (None, 26, 26, 13)        0         \n",
            "_________________________________________________________________\n",
            "dropout_11 (Dropout)         (None, 26, 26, 13)        0         \n",
            "_________________________________________________________________\n",
            "conv2d_18 (Conv2D)           (None, 24, 24, 16)        1888      \n",
            "_________________________________________________________________\n",
            "batch_normalization_12 (Batc (None, 24, 24, 16)        64        \n",
            "_________________________________________________________________\n",
            "activation_14 (Activation)   (None, 24, 24, 16)        0         \n",
            "_________________________________________________________________\n",
            "dropout_12 (Dropout)         (None, 24, 24, 16)        0         \n",
            "_________________________________________________________________\n",
            "conv2d_19 (Conv2D)           (None, 22, 22, 19)        2755      \n",
            "_________________________________________________________________\n",
            "batch_normalization_13 (Batc (None, 22, 22, 19)        76        \n",
            "_________________________________________________________________\n",
            "activation_15 (Activation)   (None, 22, 22, 19)        0         \n",
            "_________________________________________________________________\n",
            "dropout_13 (Dropout)         (None, 22, 22, 19)        0         \n",
            "_________________________________________________________________\n",
            "conv2d_20 (Conv2D)           (None, 22, 22, 13)        260       \n",
            "_________________________________________________________________\n",
            "max_pooling2d_3 (MaxPooling2 (None, 11, 11, 13)        0         \n",
            "_________________________________________________________________\n",
            "conv2d_21 (Conv2D)           (None, 9, 9, 16)          1888      \n",
            "_________________________________________________________________\n",
            "batch_normalization_14 (Batc (None, 9, 9, 16)          64        \n",
            "_________________________________________________________________\n",
            "activation_16 (Activation)   (None, 9, 9, 16)          0         \n",
            "_________________________________________________________________\n",
            "dropout_14 (Dropout)         (None, 9, 9, 16)          0         \n",
            "_________________________________________________________________\n",
            "conv2d_22 (Conv2D)           (None, 7, 7, 19)          2755      \n",
            "_________________________________________________________________\n",
            "batch_normalization_15 (Batc (None, 7, 7, 19)          76        \n",
            "_________________________________________________________________\n",
            "activation_17 (Activation)   (None, 7, 7, 19)          0         \n",
            "_________________________________________________________________\n",
            "dropout_15 (Dropout)         (None, 7, 7, 19)          0         \n",
            "_________________________________________________________________\n",
            "conv2d_23 (Conv2D)           (None, 7, 7, 10)          200       \n",
            "_________________________________________________________________\n",
            "conv2d_24 (Conv2D)           (None, 1, 1, 10)          4910      \n",
            "_________________________________________________________________\n",
            "flatten_3 (Flatten)          (None, 10)                0         \n",
            "_________________________________________________________________\n",
            "activation_18 (Activation)   (None, 10)                0         \n",
            "=================================================================\n",
            "Total params: 15,118\n",
            "Trainable params: 14,952\n",
            "Non-trainable params: 166\n",
            "_________________________________________________________________\n"
          ],
          "name": "stdout"
        }
      ]
    },
    {
      "cell_type": "markdown",
      "metadata": {
        "id": "YXJX8rXXVBC_",
        "colab_type": "text"
      },
      "source": [
        "# Cyclic Learning Rate"
      ]
    },
    {
      "cell_type": "code",
      "metadata": {
        "id": "E1Wbss6H49Qc",
        "colab_type": "code",
        "colab": {}
      },
      "source": [
        "from keras.callbacks import *\n",
        "\n",
        "class CyclicLR(Callback):\n",
        "    \"\"\"This callback implements a cyclical learning rate policy (CLR).\n",
        "    The method cycles the learning rate between two boundaries with\n",
        "    some constant frequency, as detailed in this paper (https://arxiv.org/abs/1506.01186).\n",
        "    The amplitude of the cycle can be scaled on a per-iteration or \n",
        "    per-cycle basis.\n",
        "    This class has three built-in policies, as put forth in the paper.\n",
        "    \"triangular\":\n",
        "        A basic triangular cycle w/ no amplitude scaling.\n",
        "    \"triangular2\":\n",
        "        A basic triangular cycle that scales initial amplitude by half each cycle.\n",
        "    \"exp_range\":\n",
        "        A cycle that scales initial amplitude by gamma**(cycle iterations) at each \n",
        "        cycle iteration.\n",
        "    For more detail, please see paper.\n",
        "    \n",
        "    # Example\n",
        "        ```python\n",
        "            clr = CyclicLR(base_lr=0.001, max_lr=0.006,\n",
        "                                step_size=2000., mode='triangular')\n",
        "            model.fit(X_train, Y_train, callbacks=[clr])\n",
        "        ```\n",
        "    \n",
        "    Class also supports custom scaling functions:\n",
        "        ```python\n",
        "            clr_fn = lambda x: 0.5*(1+np.sin(x*np.pi/2.))\n",
        "            clr = CyclicLR(base_lr=0.001, max_lr=0.006,\n",
        "                                step_size=2000., scale_fn=clr_fn,\n",
        "                                scale_mode='cycle')\n",
        "            model.fit(X_train, Y_train, callbacks=[clr])\n",
        "        ```    \n",
        "    # Arguments\n",
        "        base_lr: initial learning rate which is the\n",
        "            lower boundary in the cycle.\n",
        "        max_lr: upper boundary in the cycle. Functionally,\n",
        "            it defines the cycle amplitude (max_lr - base_lr).\n",
        "            The lr at any cycle is the sum of base_lr\n",
        "            and some scaling of the amplitude; therefore \n",
        "            max_lr may not actually be reached depending on\n",
        "            scaling function.\n",
        "        step_size: number of training iterations per\n",
        "            half cycle. Authors suggest setting step_size\n",
        "            2-8 x training iterations in epoch.\n",
        "        mode: one of {triangular, triangular2, exp_range}.\n",
        "            Default 'triangular'.\n",
        "            Values correspond to policies detailed above.\n",
        "            If scale_fn is not None, this argument is ignored.\n",
        "        gamma: constant in 'exp_range' scaling function:\n",
        "            gamma**(cycle iterations)\n",
        "        scale_fn: Custom scaling policy defined by a single\n",
        "            argument lambda function, where \n",
        "            0 <= scale_fn(x) <= 1 for all x >= 0.\n",
        "            mode paramater is ignored \n",
        "        scale_mode: {'cycle', 'iterations'}.\n",
        "            Defines whether scale_fn is evaluated on \n",
        "            cycle number or cycle iterations (training\n",
        "            iterations since start of cycle). Default is 'cycle'.\n",
        "    \"\"\"\n",
        "\n",
        "    def __init__(self, base_lr=0.001, max_lr=0.006, step_size=2000., mode='triangular',\n",
        "                 gamma=1., scale_fn=None, scale_mode='cycle'):\n",
        "        super(CyclicLR, self).__init__()\n",
        "\n",
        "        self.base_lr = base_lr\n",
        "        self.max_lr = max_lr\n",
        "        self.step_size = step_size\n",
        "        self.mode = mode\n",
        "        self.gamma = gamma\n",
        "        if scale_fn == None:\n",
        "            if self.mode == 'triangular':\n",
        "                self.scale_fn = lambda x: 1.\n",
        "                self.scale_mode = 'cycle'\n",
        "            elif self.mode == 'triangular2':\n",
        "                self.scale_fn = lambda x: 1/(2.**(x-1))\n",
        "                self.scale_mode = 'cycle'\n",
        "            elif self.mode == 'exp_range':\n",
        "                self.scale_fn = lambda x: gamma**(x)\n",
        "                self.scale_mode = 'iterations'\n",
        "        else:\n",
        "            self.scale_fn = scale_fn\n",
        "            self.scale_mode = scale_mode\n",
        "        self.clr_iterations = 0.\n",
        "        self.trn_iterations = 0.\n",
        "        self.history = {}\n",
        "\n",
        "        self._reset()\n",
        "\n",
        "    def _reset(self, new_base_lr=None, new_max_lr=None,\n",
        "               new_step_size=None):\n",
        "        \"\"\"Resets cycle iterations.\n",
        "        Optional boundary/step size adjustment.\n",
        "        \"\"\"\n",
        "        if new_base_lr != None:\n",
        "            self.base_lr = new_base_lr\n",
        "        if new_max_lr != None:\n",
        "            self.max_lr = new_max_lr\n",
        "        if new_step_size != None:\n",
        "            self.step_size = new_step_size\n",
        "        self.clr_iterations = 0.\n",
        "        \n",
        "    def clr(self):\n",
        "        cycle = np.floor(1+self.clr_iterations/(2*self.step_size))\n",
        "        x = np.abs(self.clr_iterations/self.step_size - 2*cycle + 1)\n",
        "        if self.scale_mode == 'cycle':\n",
        "            return self.base_lr + (self.max_lr-self.base_lr)*np.maximum(0, (1-x))*self.scale_fn(cycle)\n",
        "        else:\n",
        "            return self.base_lr + (self.max_lr-self.base_lr)*np.maximum(0, (1-x))*self.scale_fn(self.clr_iterations)\n",
        "        \n",
        "    def on_train_begin(self, logs={}):\n",
        "        logs = logs or {}\n",
        "\n",
        "        if self.clr_iterations == 0:\n",
        "            K.set_value(self.model.optimizer.lr, self.base_lr)\n",
        "        else:\n",
        "            K.set_value(self.model.optimizer.lr, self.clr())        \n",
        "            \n",
        "    def on_batch_end(self, epoch, logs=None):\n",
        "        \n",
        "        logs = logs or {}\n",
        "        self.trn_iterations += 1\n",
        "        self.clr_iterations += 1\n",
        "\n",
        "        self.history.setdefault('lr', []).append(K.get_value(self.model.optimizer.lr))\n",
        "        self.history.setdefault('iterations', []).append(self.trn_iterations)\n",
        "\n",
        "        for k, v in logs.items():\n",
        "            self.history.setdefault(k, []).append(v)\n",
        "        \n",
        "        K.set_value(self.model.optimizer.lr, self.clr())"
      ],
      "execution_count": 0,
      "outputs": []
    },
    {
      "cell_type": "code",
      "metadata": {
        "id": "8llsoXe69pZJ",
        "colab_type": "code",
        "colab": {}
      },
      "source": [
        "from keras.preprocessing.image import ImageDataGenerator\n",
        "datagen = ImageDataGenerator(featurewise_center=True, featurewise_std_normalization=True)\n",
        "train_iterator = datagen.flow(X_train,Y_train, batch_size=168)\n",
        "val_iterator = datagen.flow(X_test,Y_test)"
      ],
      "execution_count": 0,
      "outputs": []
    },
    {
      "cell_type": "markdown",
      "metadata": {
        "id": "Ti8t7PynA5uw",
        "colab_type": "text"
      },
      "source": [
        "# Model Training & Prediction"
      ]
    },
    {
      "cell_type": "code",
      "metadata": {
        "id": "Zp6SuGrL9M3h",
        "colab_type": "code",
        "colab": {}
      },
      "source": [
        "model.compile(loss='categorical_crossentropy',\n",
        "             optimizer='adam',\n",
        "             metrics=['accuracy'])"
      ],
      "execution_count": 0,
      "outputs": []
    },
    {
      "cell_type": "code",
      "metadata": {
        "id": "IfRky9diJt3H",
        "colab_type": "code",
        "colab": {}
      },
      "source": [
        "# Model Checkpoint which will be used as callback parameter value for saving the model weights\n",
        "# whenever there is an improvement in validation accuracy\n",
        "from keras.callbacks import ModelCheckpoint\n",
        "filepath = r'/content/drive/My Drive/EVA-MachineLearning/Assignment-5-model_weights.hdf5'\n",
        "checkpoint = ModelCheckpoint(filepath,\n",
        "                            monitor='val_acc',\n",
        "                            verbose=1,\n",
        "                            save_best_only=True,\n",
        "                            mode='max', period=1)"
      ],
      "execution_count": 0,
      "outputs": []
    },
    {
      "cell_type": "markdown",
      "metadata": {
        "id": "QIuO524A02OD",
        "colab_type": "text"
      },
      "source": [
        "**40 Epochs**"
      ]
    },
    {
      "cell_type": "code",
      "metadata": {
        "id": "4xWoKhPY9Of5",
        "colab_type": "code",
        "outputId": "fd76e14a-f809-4fc7-b7f8-51d1fb9f9a0d",
        "colab": {
          "base_uri": "https://localhost:8080/",
          "height": 2972
        }
      },
      "source": [
        "# Introducing learning rate\n",
        "from keras.callbacks import *\n",
        "clr_triangular = CyclicLR(mode='triangular')\n",
        "\n",
        "model.fit_generator(train_iterator, steps_per_epoch=len(train_iterator), nb_epoch=40, verbose=1, callbacks=[clr_triangular, checkpoint], validation_data=val_iterator, validation_steps=len(val_iterator))"
      ],
      "execution_count": 54,
      "outputs": [
        {
          "output_type": "stream",
          "text": [
            "/usr/local/lib/python3.6/dist-packages/ipykernel_launcher.py:4: UserWarning: The semantics of the Keras 2 argument `steps_per_epoch` is not the same as the Keras 1 argument `samples_per_epoch`. `steps_per_epoch` is the number of batches to draw from the generator at each epoch. Basically steps_per_epoch = samples_per_epoch/batch_size. Similarly `nb_val_samples`->`validation_steps` and `val_samples`->`steps` arguments have changed. Update your method calls accordingly.\n",
            "  after removing the cwd from sys.path.\n",
            "/usr/local/lib/python3.6/dist-packages/ipykernel_launcher.py:4: UserWarning: Update your `fit_generator` call to the Keras 2 API: `fit_generator(<keras_pre..., steps_per_epoch=358, verbose=1, callbacks=[<__main__..., validation_data=<keras_pre..., validation_steps=313, epochs=40)`\n",
            "  after removing the cwd from sys.path.\n"
          ],
          "name": "stderr"
        },
        {
          "output_type": "stream",
          "text": [
            "Epoch 1/40\n"
          ],
          "name": "stdout"
        },
        {
          "output_type": "stream",
          "text": [
            "/usr/local/lib/python3.6/dist-packages/keras_preprocessing/image/image_data_generator.py:699: UserWarning: This ImageDataGenerator specifies `featurewise_center`, but it hasn't been fit on any training data. Fit it first by calling `.fit(numpy_data)`.\n",
            "  warnings.warn('This ImageDataGenerator specifies '\n",
            "/usr/local/lib/python3.6/dist-packages/keras_preprocessing/image/image_data_generator.py:707: UserWarning: This ImageDataGenerator specifies `featurewise_std_normalization`, but it hasn't been fit on any training data. Fit it first by calling `.fit(numpy_data)`.\n",
            "  warnings.warn('This ImageDataGenerator specifies '\n"
          ],
          "name": "stderr"
        },
        {
          "output_type": "stream",
          "text": [
            "358/358 [==============================] - 8s 23ms/step - loss: 0.3994 - acc: 0.9048 - val_loss: 0.2211 - val_acc: 0.9592\n",
            "\n",
            "Epoch 00001: val_acc improved from -inf to 0.95920, saving model to /content/drive/My Drive/EVA-MachineLearning/Assignment-5-model_weights.hdf5\n",
            "Epoch 2/40\n",
            "358/358 [==============================] - 7s 20ms/step - loss: 0.1605 - acc: 0.9763 - val_loss: 0.1557 - val_acc: 0.9736\n",
            "\n",
            "Epoch 00002: val_acc improved from 0.95920 to 0.97360, saving model to /content/drive/My Drive/EVA-MachineLearning/Assignment-5-model_weights.hdf5\n",
            "Epoch 3/40\n",
            "358/358 [==============================] - 7s 20ms/step - loss: 0.1289 - acc: 0.9800 - val_loss: 0.1070 - val_acc: 0.9839\n",
            "\n",
            "Epoch 00003: val_acc improved from 0.97360 to 0.98390, saving model to /content/drive/My Drive/EVA-MachineLearning/Assignment-5-model_weights.hdf5\n",
            "Epoch 4/40\n",
            "358/358 [==============================] - 7s 20ms/step - loss: 0.1168 - acc: 0.9809 - val_loss: 0.0952 - val_acc: 0.9860\n",
            "\n",
            "Epoch 00004: val_acc improved from 0.98390 to 0.98600, saving model to /content/drive/My Drive/EVA-MachineLearning/Assignment-5-model_weights.hdf5\n",
            "Epoch 5/40\n",
            "358/358 [==============================] - 7s 20ms/step - loss: 0.1141 - acc: 0.9816 - val_loss: 0.1388 - val_acc: 0.9734\n",
            "\n",
            "Epoch 00005: val_acc did not improve from 0.98600\n",
            "Epoch 6/40\n",
            "358/358 [==============================] - 7s 20ms/step - loss: 0.1221 - acc: 0.9795 - val_loss: 0.1408 - val_acc: 0.9747\n",
            "\n",
            "Epoch 00006: val_acc did not improve from 0.98600\n",
            "Epoch 7/40\n",
            "358/358 [==============================] - 7s 20ms/step - loss: 0.1133 - acc: 0.9824 - val_loss: 0.1220 - val_acc: 0.9793\n",
            "\n",
            "Epoch 00007: val_acc did not improve from 0.98600\n",
            "Epoch 8/40\n",
            "358/358 [==============================] - 7s 20ms/step - loss: 0.1044 - acc: 0.9833 - val_loss: 0.1072 - val_acc: 0.9811\n",
            "\n",
            "Epoch 00008: val_acc did not improve from 0.98600\n",
            "Epoch 9/40\n",
            "358/358 [==============================] - 7s 20ms/step - loss: 0.0929 - acc: 0.9858 - val_loss: 0.1021 - val_acc: 0.9820\n",
            "\n",
            "Epoch 00009: val_acc did not improve from 0.98600\n",
            "Epoch 10/40\n",
            "358/358 [==============================] - 7s 20ms/step - loss: 0.0811 - acc: 0.9879 - val_loss: 0.1073 - val_acc: 0.9774\n",
            "\n",
            "Epoch 00010: val_acc did not improve from 0.98600\n",
            "Epoch 11/40\n",
            "358/358 [==============================] - 7s 20ms/step - loss: 0.0698 - acc: 0.9895 - val_loss: 0.0678 - val_acc: 0.9892\n",
            "\n",
            "Epoch 00011: val_acc improved from 0.98600 to 0.98920, saving model to /content/drive/My Drive/EVA-MachineLearning/Assignment-5-model_weights.hdf5\n",
            "Epoch 12/40\n",
            "358/358 [==============================] - 7s 20ms/step - loss: 0.0633 - acc: 0.9905 - val_loss: 0.0694 - val_acc: 0.9881\n",
            "\n",
            "Epoch 00012: val_acc did not improve from 0.98920\n",
            "Epoch 13/40\n",
            "358/358 [==============================] - 7s 20ms/step - loss: 0.0743 - acc: 0.9875 - val_loss: 0.1462 - val_acc: 0.9653\n",
            "\n",
            "Epoch 00013: val_acc did not improve from 0.98920\n",
            "Epoch 14/40\n",
            "358/358 [==============================] - 7s 20ms/step - loss: 0.0883 - acc: 0.9848 - val_loss: 0.0993 - val_acc: 0.9824\n",
            "\n",
            "Epoch 00014: val_acc did not improve from 0.98920\n",
            "Epoch 15/40\n",
            "358/358 [==============================] - 7s 20ms/step - loss: 0.0990 - acc: 0.9837 - val_loss: 0.0996 - val_acc: 0.9835\n",
            "\n",
            "Epoch 00015: val_acc did not improve from 0.98920\n",
            "Epoch 16/40\n",
            "358/358 [==============================] - 7s 21ms/step - loss: 0.1080 - acc: 0.9826 - val_loss: 0.1077 - val_acc: 0.9827\n",
            "\n",
            "Epoch 00016: val_acc did not improve from 0.98920\n",
            "Epoch 17/40\n",
            "358/358 [==============================] - 7s 21ms/step - loss: 0.1153 - acc: 0.9816 - val_loss: 0.1199 - val_acc: 0.9812\n",
            "\n",
            "Epoch 00017: val_acc did not improve from 0.98920\n",
            "Epoch 18/40\n",
            "358/358 [==============================] - 7s 20ms/step - loss: 0.1166 - acc: 0.9820 - val_loss: 0.1059 - val_acc: 0.9840\n",
            "\n",
            "Epoch 00018: val_acc did not improve from 0.98920\n",
            "Epoch 19/40\n",
            "358/358 [==============================] - 7s 20ms/step - loss: 0.1039 - acc: 0.9842 - val_loss: 0.0847 - val_acc: 0.9888\n",
            "\n",
            "Epoch 00019: val_acc did not improve from 0.98920\n",
            "Epoch 20/40\n",
            "358/358 [==============================] - 7s 20ms/step - loss: 0.0929 - acc: 0.9851 - val_loss: 0.0839 - val_acc: 0.9876\n",
            "\n",
            "Epoch 00020: val_acc did not improve from 0.98920\n",
            "Epoch 21/40\n",
            "358/358 [==============================] - 7s 21ms/step - loss: 0.0796 - acc: 0.9878 - val_loss: 0.0694 - val_acc: 0.9902\n",
            "\n",
            "Epoch 00021: val_acc improved from 0.98920 to 0.99020, saving model to /content/drive/My Drive/EVA-MachineLearning/Assignment-5-model_weights.hdf5\n",
            "Epoch 22/40\n",
            "358/358 [==============================] - 7s 21ms/step - loss: 0.0673 - acc: 0.9898 - val_loss: 0.0652 - val_acc: 0.9894\n",
            "\n",
            "Epoch 00022: val_acc did not improve from 0.99020\n",
            "Epoch 23/40\n",
            "358/358 [==============================] - 7s 21ms/step - loss: 0.0584 - acc: 0.9917 - val_loss: 0.0622 - val_acc: 0.9903\n",
            "\n",
            "Epoch 00023: val_acc improved from 0.99020 to 0.99030, saving model to /content/drive/My Drive/EVA-MachineLearning/Assignment-5-model_weights.hdf5\n",
            "Epoch 24/40\n",
            "358/358 [==============================] - 7s 21ms/step - loss: 0.0702 - acc: 0.9875 - val_loss: 0.0909 - val_acc: 0.9812\n",
            "\n",
            "Epoch 00024: val_acc did not improve from 0.99030\n",
            "Epoch 25/40\n",
            "358/358 [==============================] - 8s 21ms/step - loss: 0.0836 - acc: 0.9851 - val_loss: 0.0965 - val_acc: 0.9805\n",
            "\n",
            "Epoch 00025: val_acc did not improve from 0.99030\n",
            "Epoch 26/40\n",
            "358/358 [==============================] - 8s 21ms/step - loss: 0.0920 - acc: 0.9847 - val_loss: 0.0869 - val_acc: 0.9863\n",
            "\n",
            "Epoch 00026: val_acc did not improve from 0.99030\n",
            "Epoch 27/40\n",
            "358/358 [==============================] - 7s 21ms/step - loss: 0.1025 - acc: 0.9832 - val_loss: 0.0927 - val_acc: 0.9859\n",
            "\n",
            "Epoch 00027: val_acc did not improve from 0.99030\n",
            "Epoch 28/40\n",
            "358/358 [==============================] - 7s 21ms/step - loss: 0.1079 - acc: 0.9828 - val_loss: 0.1133 - val_acc: 0.9815\n",
            "\n",
            "Epoch 00028: val_acc did not improve from 0.99030\n",
            "Epoch 29/40\n",
            "358/358 [==============================] - 7s 20ms/step - loss: 0.1082 - acc: 0.9833 - val_loss: 0.1045 - val_acc: 0.9828\n",
            "\n",
            "Epoch 00029: val_acc did not improve from 0.99030\n",
            "Epoch 30/40\n",
            "358/358 [==============================] - 7s 20ms/step - loss: 0.0964 - acc: 0.9842 - val_loss: 0.1294 - val_acc: 0.9731\n",
            "\n",
            "Epoch 00030: val_acc did not improve from 0.99030\n",
            "Epoch 31/40\n",
            "358/358 [==============================] - 7s 20ms/step - loss: 0.0877 - acc: 0.9861 - val_loss: 0.0800 - val_acc: 0.9880\n",
            "\n",
            "Epoch 00031: val_acc did not improve from 0.99030\n",
            "Epoch 32/40\n",
            "358/358 [==============================] - 7s 20ms/step - loss: 0.0770 - acc: 0.9882 - val_loss: 0.0630 - val_acc: 0.9915\n",
            "\n",
            "Epoch 00032: val_acc improved from 0.99030 to 0.99150, saving model to /content/drive/My Drive/EVA-MachineLearning/Assignment-5-model_weights.hdf5\n",
            "Epoch 33/40\n",
            "358/358 [==============================] - 7s 20ms/step - loss: 0.0665 - acc: 0.9902 - val_loss: 0.0687 - val_acc: 0.9883\n",
            "\n",
            "Epoch 00033: val_acc did not improve from 0.99150\n",
            "Epoch 34/40\n",
            "358/358 [==============================] - 7s 20ms/step - loss: 0.0565 - acc: 0.9918 - val_loss: 0.0708 - val_acc: 0.9876\n",
            "\n",
            "Epoch 00034: val_acc did not improve from 0.99150\n",
            "Epoch 35/40\n",
            "358/358 [==============================] - 7s 20ms/step - loss: 0.0626 - acc: 0.9899 - val_loss: 0.0724 - val_acc: 0.9878\n",
            "\n",
            "Epoch 00035: val_acc did not improve from 0.99150\n",
            "Epoch 36/40\n",
            "358/358 [==============================] - 7s 20ms/step - loss: 0.0752 - acc: 0.9864 - val_loss: 0.1225 - val_acc: 0.9731\n",
            "\n",
            "Epoch 00036: val_acc did not improve from 0.99150\n",
            "Epoch 37/40\n",
            "358/358 [==============================] - 7s 20ms/step - loss: 0.0871 - acc: 0.9851 - val_loss: 0.0725 - val_acc: 0.9900\n",
            "\n",
            "Epoch 00037: val_acc did not improve from 0.99150\n",
            "Epoch 38/40\n",
            "358/358 [==============================] - 7s 20ms/step - loss: 0.1003 - acc: 0.9830 - val_loss: 0.1140 - val_acc: 0.9800\n",
            "\n",
            "Epoch 00038: val_acc did not improve from 0.99150\n",
            "Epoch 39/40\n",
            "358/358 [==============================] - 7s 20ms/step - loss: 0.1077 - acc: 0.9826 - val_loss: 0.1223 - val_acc: 0.9794\n",
            "\n",
            "Epoch 00039: val_acc did not improve from 0.99150\n",
            "Epoch 40/40\n",
            "358/358 [==============================] - 7s 20ms/step - loss: 0.1035 - acc: 0.9840 - val_loss: 0.0941 - val_acc: 0.9852\n",
            "\n",
            "Epoch 00040: val_acc did not improve from 0.99150\n"
          ],
          "name": "stdout"
        },
        {
          "output_type": "execute_result",
          "data": {
            "text/plain": [
              "<keras.callbacks.History at 0x7f2ae5202c50>"
            ]
          },
          "metadata": {
            "tags": []
          },
          "execution_count": 54
        }
      ]
    },
    {
      "cell_type": "code",
      "metadata": {
        "id": "jESCgLYwO3Cc",
        "colab_type": "code",
        "colab": {}
      },
      "source": [
        "#Load the best tuned model weight\n",
        "model.load_weights(filepath)"
      ],
      "execution_count": 0,
      "outputs": []
    },
    {
      "cell_type": "code",
      "metadata": {
        "id": "AtsH-lLk-eLb",
        "colab_type": "code",
        "colab": {}
      },
      "source": [
        "score = model.evaluate(X_test, Y_test, verbose=0)"
      ],
      "execution_count": 0,
      "outputs": []
    },
    {
      "cell_type": "code",
      "metadata": {
        "id": "mkX8JMv79q9r",
        "colab_type": "code",
        "outputId": "a42f4a17-0c85-4565-9166-a452e68d6c5d",
        "colab": {
          "base_uri": "https://localhost:8080/",
          "height": 34
        }
      },
      "source": [
        "print(score)"
      ],
      "execution_count": 57,
      "outputs": [
        {
          "output_type": "stream",
          "text": [
            "[0.06300641231536865, 0.9915]\n"
          ],
          "name": "stdout"
        }
      ]
    },
    {
      "cell_type": "code",
      "metadata": {
        "id": "OCWoJkwE9suh",
        "colab_type": "code",
        "colab": {}
      },
      "source": [
        "y_pred = model.predict(X_test)"
      ],
      "execution_count": 0,
      "outputs": []
    },
    {
      "cell_type": "code",
      "metadata": {
        "id": "Ym7iCFBm9uBs",
        "colab_type": "code",
        "outputId": "a22c27c6-027c-43a3-ea66-1b07485ce2ad",
        "colab": {
          "base_uri": "https://localhost:8080/",
          "height": 503
        }
      },
      "source": [
        "print(y_pred[:9])\n",
        "print(y_test[:9])"
      ],
      "execution_count": 59,
      "outputs": [
        {
          "output_type": "stream",
          "text": [
            "[[2.12374331e-07 1.02809270e-06 3.97540534e-05 2.46890227e-06\n",
            "  8.65937366e-09 1.88222870e-07 1.37979614e-10 9.99944210e-01\n",
            "  1.05556374e-07 1.19036840e-05]\n",
            " [6.45567896e-04 9.48008848e-04 9.97760534e-01 3.15521436e-04\n",
            "  9.75173043e-06 5.73568286e-08 2.85340619e-04 4.84390148e-06\n",
            "  2.98449322e-05 4.92564880e-07]\n",
            " [3.49975089e-05 9.99139309e-01 4.39496544e-05 2.43359227e-05\n",
            "  2.80497334e-04 4.81464995e-05 1.90385501e-04 1.93307307e-04\n",
            "  3.17517770e-05 1.32196965e-05]\n",
            " [9.99094963e-01 1.23169116e-07 4.73077898e-06 9.85235431e-08\n",
            "  8.00962880e-07 3.73581793e-06 8.68356554e-04 2.85898153e-07\n",
            "  5.87749628e-06 2.09853679e-05]\n",
            " [1.12834653e-06 4.43441968e-05 1.19805790e-07 4.08487608e-08\n",
            "  9.99193847e-01 5.45895844e-08 6.88702642e-07 3.65007253e-07\n",
            "  9.83676273e-07 7.58472714e-04]\n",
            " [4.44054567e-05 9.98997271e-01 8.13734878e-05 6.26325118e-06\n",
            "  4.02326201e-04 6.27880081e-06 9.64522114e-05 3.30435985e-04\n",
            "  2.03755462e-05 1.47914971e-05]\n",
            " [5.66793652e-08 2.10808750e-04 7.81097015e-07 1.11279244e-08\n",
            "  9.99401569e-01 1.34731208e-05 1.41079170e-07 4.27135710e-05\n",
            "  1.69202307e-04 1.61152915e-04]\n",
            " [3.91112844e-05 2.79458322e-06 1.17236385e-04 3.33574303e-06\n",
            "  1.70814060e-03 4.73377513e-05 1.43233638e-06 1.07365413e-05\n",
            "  4.01834375e-04 9.97667968e-01]\n",
            " [2.78714811e-04 1.53321523e-07 6.22960579e-05 1.28943784e-05\n",
            "  2.09015275e-06 9.52192545e-01 3.67186777e-02 4.32675421e-07\n",
            "  1.04181645e-02 3.14158038e-04]]\n",
            "[7 2 1 0 4 1 4 9 5]\n"
          ],
          "name": "stdout"
        }
      ]
    },
    {
      "cell_type": "markdown",
      "metadata": {
        "id": "4z1Nyz9XPHSC",
        "colab_type": "text"
      },
      "source": [
        "# Analysis - Confusion matrix, Classification Report & 25 misclassified images"
      ]
    },
    {
      "cell_type": "code",
      "metadata": {
        "id": "9tvptcn8dxvp",
        "colab_type": "code",
        "colab": {}
      },
      "source": [
        "from sklearn.metrics import classification_report, confusion_matrix\n",
        "y_pred = np.argmax(y_pred, axis=1)\n"
      ],
      "execution_count": 0,
      "outputs": []
    },
    {
      "cell_type": "markdown",
      "metadata": {
        "id": "qRu7Z0NhQ0Qz",
        "colab_type": "text"
      },
      "source": [
        "## Confusion Matrix"
      ]
    },
    {
      "cell_type": "code",
      "metadata": {
        "id": "zHeuhM9-Q3JA",
        "colab_type": "code",
        "colab": {
          "base_uri": "https://localhost:8080/",
          "height": 191
        },
        "outputId": "e9181026-bfd4-4afd-d758-374340d8218c"
      },
      "source": [
        "print(confusion_matrix(y_test, y_pred))"
      ],
      "execution_count": 61,
      "outputs": [
        {
          "output_type": "stream",
          "text": [
            "[[ 973    0    2    0    0    0    3    1    1    0]\n",
            " [   0 1134    1    0    0    0    0    0    0    0]\n",
            " [   1    2 1026    0    0    0    1    1    1    0]\n",
            " [   0    1    1 1000    0    6    0    1    1    0]\n",
            " [   0    0    0    0  980    0    0    0    0    2]\n",
            " [   0    1    0    3    0  883    3    0    1    1]\n",
            " [   3    6    0    0    1    1  946    0    1    0]\n",
            " [   0    6    3    0    1    0    0 1017    0    1]\n",
            " [   1    1    0    1    0    0    0    0  968    3]\n",
            " [   2    0    0    0   12    1    0    4    2  988]]\n"
          ],
          "name": "stdout"
        }
      ]
    },
    {
      "cell_type": "markdown",
      "metadata": {
        "id": "kEamcNLTQus8",
        "colab_type": "text"
      },
      "source": [
        "## Classification Report"
      ]
    },
    {
      "cell_type": "code",
      "metadata": {
        "id": "qgFU3GJIQm5f",
        "colab_type": "code",
        "colab": {
          "base_uri": "https://localhost:8080/",
          "height": 312
        },
        "outputId": "18652292-c242-4c22-f785-7a5176c58d1c"
      },
      "source": [
        "print(classification_report(y_test, y_pred))"
      ],
      "execution_count": 62,
      "outputs": [
        {
          "output_type": "stream",
          "text": [
            "              precision    recall  f1-score   support\n",
            "\n",
            "           0       0.99      0.99      0.99       980\n",
            "           1       0.99      1.00      0.99      1135\n",
            "           2       0.99      0.99      0.99      1032\n",
            "           3       1.00      0.99      0.99      1010\n",
            "           4       0.99      1.00      0.99       982\n",
            "           5       0.99      0.99      0.99       892\n",
            "           6       0.99      0.99      0.99       958\n",
            "           7       0.99      0.99      0.99      1028\n",
            "           8       0.99      0.99      0.99       974\n",
            "           9       0.99      0.98      0.99      1009\n",
            "\n",
            "    accuracy                           0.99     10000\n",
            "   macro avg       0.99      0.99      0.99     10000\n",
            "weighted avg       0.99      0.99      0.99     10000\n",
            "\n"
          ],
          "name": "stdout"
        }
      ]
    },
    {
      "cell_type": "markdown",
      "metadata": {
        "id": "jobCuu5NQ8bs",
        "colab_type": "text"
      },
      "source": [
        "## 25 Misclassified Images"
      ]
    },
    {
      "cell_type": "code",
      "metadata": {
        "id": "Dqdnj8w-PQPo",
        "colab_type": "code",
        "colab": {
          "base_uri": "https://localhost:8080/",
          "height": 1606
        },
        "outputId": "8014481d-cd2a-4492-f79b-83610788cc69"
      },
      "source": [
        "incorrect = np.where(y_pred!=y_test)[0]\n",
        "fig=plt.figure(figsize=(28, 28))\n",
        "columns = 5\n",
        "rows = 5\n",
        "for i in range(1, 26):\n",
        " img_num = incorrect[i-1]\n",
        " img = X_test[img_num].reshape(28,28)\n",
        " fig.add_subplot(rows, columns, i)\n",
        " plt.imshow(img)\n",
        " plt.title(\"Predicted {}, Class {}\".format(y_pred[img_num], y_test[img_num]))\n",
        "plt.show()"
      ],
      "execution_count": 63,
      "outputs": [
        {
          "output_type": "display_data",
          "data": {
            "image/png": "[encoded data removed]",
            "text/plain": [
              "<Figure size 2016x2016 with 25 Axes>"
            ]
          },
          "metadata": {
            "tags": []
          }
        }
      ]
    }
  ]
}